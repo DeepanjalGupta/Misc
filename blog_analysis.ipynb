{
 "cells": [
  {
   "cell_type": "code",
   "execution_count": 1,
   "metadata": {},
   "outputs": [],
   "source": [
    "import pandas as pd\n",
    "import numpy as np\n",
    "\n",
    "from os import walk"
   ]
  },
  {
   "cell_type": "code",
   "execution_count": 2,
   "metadata": {},
   "outputs": [],
   "source": [
    "for dirpath, dirname,filenames in walk('/Users/deepanjal.gupta/Documents/blog data'):\n",
    "    file_name_list = filenames"
   ]
  },
  {
   "cell_type": "code",
   "execution_count": 3,
   "metadata": {},
   "outputs": [
    {
     "name": "stdout",
     "output_type": "stream",
     "text": [
      "/Users/deepanjal.gupta/Documents/blog data/1. Done and Dusted.txt\n",
      "/Users/deepanjal.gupta/Documents/blog data/11. A Call for love.txt\n",
      "/Users/deepanjal.gupta/Documents/blog data/3. If only we kissed.txt\n",
      "/Users/deepanjal.gupta/Documents/blog data/25. A Spectator.txt\n",
      "/Users/deepanjal.gupta/Documents/blog data/20. College Induced Cogition #1 Deceptive Happiness.txt\n",
      "/Users/deepanjal.gupta/Documents/blog data/17. Happy Republic Day  or Perhaps not.txt\n",
      "/Users/deepanjal.gupta/Documents/blog data/8. Something Like Soulmates.txt\n",
      "/Users/deepanjal.gupta/Documents/blog data/24. Our Tryst with Destiny.txt\n",
      "/Users/deepanjal.gupta/Documents/blog data/22. The Safety Net.txt\n",
      "/Users/deepanjal.gupta/Documents/blog data/21. Thicker Than Blood.txt\n",
      "/Users/deepanjal.gupta/Documents/blog data/4. Oak Room.txt\n",
      "/Users/deepanjal.gupta/Documents/blog data/14. The Autumn of Discontent.txt\n",
      "/Users/deepanjal.gupta/Documents/blog data/7. H-19.txt\n",
      "/Users/deepanjal.gupta/Documents/blog data/9. Incompatible- An Abridged Tale.txt\n",
      "/Users/deepanjal.gupta/Documents/blog data/12. Summer breeze,Summer boy.txt\n",
      "/Users/deepanjal.gupta/Documents/blog data/2. From Green Park to Nehru Park.txt\n",
      "/Users/deepanjal.gupta/Documents/blog data/5. Nature's Course.txt\n",
      "/Users/deepanjal.gupta/Documents/blog data/6. Resonable Expense.txt\n",
      "/Users/deepanjal.gupta/Documents/blog data/16. Happy Birthday Aprajita.txt\n",
      "/Users/deepanjal.gupta/Documents/blog data/23. No time for love.txt\n",
      "/Users/deepanjal.gupta/Documents/blog data/18. A letter of Rememberance.txt\n",
      "/Users/deepanjal.gupta/Documents/blog data/13. Spaces.txt\n",
      "/Users/deepanjal.gupta/Documents/blog data/15. Nothing at All.txt\n",
      "/Users/deepanjal.gupta/Documents/blog data/10. B&W with Mashrabia Windows.txt\n",
      "/Users/deepanjal.gupta/Documents/blog data/19 .Ideally Sound Pragmatically Profound.txt\n"
     ]
    }
   ],
   "source": [
    "final_dictionary = {}\n",
    "\n",
    "for i in file_name_list:\n",
    "    print('/Users/deepanjal.gupta/Documents/blog data/' + i)\n",
    "    file = open('/Users/deepanjal.gupta/Documents/blog data/' + i,'r') \n",
    "    text_blog = file.read()\n",
    "    final_dictionary[i] = text_blog\n",
    "    file.close()"
   ]
  },
  {
   "cell_type": "code",
   "execution_count": 18,
   "metadata": {},
   "outputs": [],
   "source": [
    "intermediate_text = final_dictionary['1. Done and Dusted.txt'].replace(',',' ')\n",
    "intermediate_text = intermediate_text.replace('.',' ')\n",
    "intermediate_text = intermediate_text.lower()"
   ]
  },
  {
   "cell_type": "code",
   "execution_count": 23,
   "metadata": {},
   "outputs": [],
   "source": [
    "intermediate_df = pd.DataFrame(intermediate_text.split())\n",
    "intermediate_df.columns = ['word']"
   ]
  },
  {
   "cell_type": "code",
   "execution_count": 27,
   "metadata": {},
   "outputs": [
    {
     "data": {
      "text/plain": [
       "word\n",
       "4             1\n",
       "a            26\n",
       "added         1\n",
       "against       1\n",
       "ahead         1\n",
       "all           7\n",
       "allowed       1\n",
       "almost        1\n",
       "already       1\n",
       "alright       1\n",
       "also          1\n",
       "always        3\n",
       "amount        1\n",
       "an            2\n",
       "and          85\n",
       "any           1\n",
       "anything      2\n",
       "anyway        1\n",
       "apart         1\n",
       "apology       1\n",
       "april         1\n",
       "arm           1\n",
       "around        2\n",
       "art           1\n",
       "as            4\n",
       "ashamed       1\n",
       "at            2\n",
       "ate           1\n",
       "attacks       1\n",
       "august        1\n",
       "             ..\n",
       "were         10\n",
       "weren’t       2\n",
       "we’d          2\n",
       "we’re         1\n",
       "what          3\n",
       "whatsapp      1\n",
       "when          3\n",
       "where         1\n",
       "while         1\n",
       "whispered     1\n",
       "who           1\n",
       "will          1\n",
       "wish          2\n",
       "wished        1\n",
       "with         11\n",
       "without       1\n",
       "word          2\n",
       "words         4\n",
       "work          1\n",
       "would         3\n",
       "wouldn’t      2\n",
       "wrist         1\n",
       "written       1\n",
       "year          2\n",
       "years         2\n",
       "you          49\n",
       "your          4\n",
       "you’d         4\n",
       "you’ve        1\n",
       "–             2\n",
       "Length: 509, dtype: int64"
      ]
     },
     "execution_count": 27,
     "metadata": {},
     "output_type": "execute_result"
    }
   ],
   "source": [
    "intermediate_df.groupby('word').size()"
   ]
  },
  {
   "cell_type": "code",
   "execution_count": null,
   "metadata": {},
   "outputs": [],
   "source": []
  }
 ],
 "metadata": {
  "kernelspec": {
   "display_name": "Python 3",
   "language": "python",
   "name": "python3"
  },
  "language_info": {
   "codemirror_mode": {
    "name": "ipython",
    "version": 3
   },
   "file_extension": ".py",
   "mimetype": "text/x-python",
   "name": "python",
   "nbconvert_exporter": "python",
   "pygments_lexer": "ipython3",
   "version": "3.6.4"
  }
 },
 "nbformat": 4,
 "nbformat_minor": 2
}
