{
 "cells": [
  {
   "cell_type": "code",
   "execution_count": 2,
   "metadata": {},
   "outputs": [],
   "source": [
    "import numpy as np\n",
    "import pandas as pd  "
   ]
  },
  {
   "cell_type": "markdown",
   "metadata": {},
   "source": [
    "In Mars, there are only two denominations of currency x and y. A Marsian goes to a bar and the bill is \"z\". Using x and y he has to pay the bill. But the bar doesnt tender change, any extra money will be taken as tips.\n",
    "\n",
    "So write a function  that helps the marsian to reduce the tips.\n",
    "\n",
    "The function takes in x, y, z and returns the amount of tip he has to pay.\n",
    "\n",
    "Example 1\n",
    "\n",
    "Input: 2, 5, 109\n",
    "\n",
    "Output: 0\n",
    "\n",
    "Explanation: 21 coins of 5, and 2 coins of 2\n",
    "\n",
    "Example 2\n",
    "\n",
    "Input: 5, 7, 43\n",
    "\n",
    "Output: 0\n",
    "\n",
    "Explanation: 4 coins of 7, and 3 coins of 5\n",
    "\n",
    "Example 3\n",
    "\n",
    "Input: 15, 19, 33\n",
    "\n",
    "Output: 1\n",
    "\n",
    "Explanation: 1 coin of 15 and 1 coin of 19"
   ]
  },
  {
   "cell_type": "code",
   "execution_count": 69,
   "metadata": {},
   "outputs": [],
   "source": [
    "def middle_case(num1,num2,flag):\n",
    "    var_list = []\n",
    "    var_list.append(num2 - flag)\n",
    "    var_limiter =  num2//num1\n",
    "    for i in range(1,var_limiter+1):\n",
    "        var_list.append(z%(i*num1))\n",
    "    \n",
    "    var_list.sort()\n",
    "    \n",
    "    return var_list[0]    \n",
    "\n",
    "def max_case(num1,num2,flag):\n",
    "    var_list = []\n",
    "    \n",
    "    var_limiter =  flag//num1\n",
    "    for i in range(var_limiter+1):\n",
    "        for j in range(var_limiter+1):\n",
    "            if((i != 0) and (j != 0)):\n",
    "                if ((i*num1 + j*num2)>= flag):\n",
    "                    var_list.append((i*num1 + j*num2) - flag)\n",
    "                               \n",
    "    var_list.sort()\n",
    "    \n",
    "    return var_list[0] "
   ]
  },
  {
   "cell_type": "code",
   "execution_count": 70,
   "metadata": {},
   "outputs": [],
   "source": [
    "def tips(x,y,z):\n",
    "    if(x==y):\n",
    "        if(x==z):\n",
    "            output=0\n",
    "        if(x>z):\n",
    "            output = x-z\n",
    "        if(x<z):\n",
    "            output = z%x\n",
    "    if(x!=y):\n",
    "        if(x==z):\n",
    "            output=0\n",
    "        if(x==y):\n",
    "            output=0\n",
    "        if(z<min(x,y)):\n",
    "            output = min(x,y)-z\n",
    "        if(z<max(x,y) and z>min(x,y)):\n",
    "            output = middle_case(min(x,y),max(x,y),z)\n",
    "        if(z> max(x,y)):\n",
    "            output = max_case(min(x,y),max(x,y),z)\n",
    "        \n",
    "    return output\n",
    "    "
   ]
  },
  {
   "cell_type": "code",
   "execution_count": 68,
   "metadata": {},
   "outputs": [
    {
     "name": "stdout",
     "output_type": "stream",
     "text": [
      "0\n",
      "0\n",
      "1\n"
     ]
    }
   ],
   "source": [
    "print(tips(2,5,109))\n",
    "print(tips(5,7,43))\n",
    "print(tips(15,19,33))"
   ]
  },
  {
   "cell_type": "code",
   "execution_count": null,
   "metadata": {},
   "outputs": [],
   "source": []
  }
 ],
 "metadata": {
  "kernelspec": {
   "display_name": "Python 3",
   "language": "python",
   "name": "python3"
  },
  "language_info": {
   "codemirror_mode": {
    "name": "ipython",
    "version": 3
   },
   "file_extension": ".py",
   "mimetype": "text/x-python",
   "name": "python",
   "nbconvert_exporter": "python",
   "pygments_lexer": "ipython3",
   "version": "3.6.4"
  }
 },
 "nbformat": 4,
 "nbformat_minor": 2
}
