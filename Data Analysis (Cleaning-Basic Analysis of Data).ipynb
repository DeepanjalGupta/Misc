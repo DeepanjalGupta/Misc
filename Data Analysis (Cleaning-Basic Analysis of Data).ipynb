{
 "cells": [
  {
   "cell_type": "code",
   "execution_count": 1,
   "metadata": {},
   "outputs": [],
   "source": [
    "import numpy as np\n",
    "import pandas as pd\n",
    "import datetime\n",
    "import ast\n",
    "\n",
    "from matplotlib import pyplot as plt\n",
    "\n",
    "%matplotlib inline"
   ]
  },
  {
   "cell_type": "markdown",
   "metadata": {},
   "source": [
    "## 1. Problem Statement "
   ]
  },
  {
   "cell_type": "markdown",
   "metadata": {},
   "source": [
    "Question > Data Analysis [Cleaning/Basic Analysis of Data]:\n",
    "\n",
    "- Download the zip file containing customer basic info and event logs\n",
    "- Files\n",
    "\t- uicycles - contains the install-uninstall events for customers\n",
    "\t- eventdump - contains event triggered within the app for customers\n",
    "\n",
    "- Info:\n",
    "\t- Customer information contains install-uninstall-reinstall cycles in vertical format [ ~170k records] [so for a customer 1 lifetime cycle is a single install-uninstall event set or a reintall-uninstall event set] [so if a customer install-uninstalls-reinstalls-uninstalls then he has 2 life cycles within the app which need to be treated separately]\n",
    "\t- Event logs contain the events triggered within the app by these customers [ ~1 million records]\n",
    "- Generate the following from the data provided [Analysis questions below are along the lines of CLTV(Customer Lifetime Value) analysis]\n",
    "\t- Customer retention trends from their lifetime cycles [frequency chart or histogram plot] [retention is defined as the duration of one install-uninstall cycle, so multiple re-installs have to be treated separately]\n",
    "\t- Find out the time of day when the customers are most active [use your own discretion for time of day bucketing] [activity is defined on the basis of events]\n",
    "\t- Purchase value buckets [find purchase/checkout events from event logs and parse the 'properties' column to get total value associated and generate a simple bucketed frequency chart/histogram plot]\n",
    "\t- Behavior of purchasing and non-purchasing customers [something along the lines of their in-app event frequency in a given install-uninstall cycle]\n",
    "\t- Week over Week revenue trends for purchasing customers\n",
    "\t\t- How are their purchases distributed post install? [the number and value of purchases after installing the app in one retention cycle]\n",
    "\t\t- Do they perform purchases in the 2nd,3rd etc weeks post install? [if their retention cycle is greater than 1 week]\n",
    "\t\t- Is there a steady inflow of revenue for customers with high retention? [growth can decline but is it still a positive gradient?]\n",
    "\t- Any other actionable insights that can be drawn from the given data?\n",
    "\n"
   ]
  },
  {
   "cell_type": "markdown",
   "metadata": {},
   "source": [
    "## 2. Data Exploration "
   ]
  },
  {
   "cell_type": "markdown",
   "metadata": {
    "heading_collapsed": true
   },
   "source": [
    "### A. Loading the data to pandas dataframes  (data_eventdump and data_uicycles) and checking for the nulls"
   ]
  },
  {
   "cell_type": "code",
   "execution_count": 2,
   "metadata": {
    "hidden": true,
    "scrolled": true
   },
   "outputs": [
    {
     "name": "stdout",
     "output_type": "stream",
     "text": [
      "(data_eventdump.shape) : (995304, 4)\n",
      "(data_uicycles.shape)  : (161351, 4)\n",
      "\n",
      "data_eventdump NULLS:\n",
      "uuid               0\n",
      "event              0\n",
      "event_timestamp    0\n",
      "properties         0\n",
      "dtype: int64\n",
      "\n",
      "data_uicycles NULLS:\n",
      "uuid             2\n",
      "os               2\n",
      "event_type       0\n",
      "creation_date    0\n",
      "dtype: int64\n",
      "\n"
     ]
    }
   ],
   "source": [
    "data_eventdump = pd.read_csv('/Users/deepanjal.gupta/Documents/Uninstall.io/interview/eventdump.csv')\n",
    "data_uicycles = pd.read_csv('/Users/deepanjal.gupta/Documents/Uninstall.io/interview/uicycles.csv')\n",
    "\n",
    "\n",
    "print('(data_eventdump.shape) : ' + str(data_eventdump.shape))\n",
    "print('(data_uicycles.shape)  : ' + str(data_uicycles.shape))\n",
    "\n",
    "print('')\n",
    "\n",
    "print('data_eventdump NULLS:')\n",
    "print(data_eventdump.isnull().sum())\n",
    "print('')\n",
    "\n",
    "print('data_uicycles NULLS:')\n",
    "print(data_uicycles.isnull().sum())\n",
    "print('')"
   ]
  },
  {
   "cell_type": "markdown",
   "metadata": {
    "heading_collapsed": true
   },
   "source": [
    "### B. Checking for the nulls and removing the nulls records "
   ]
  },
  {
   "cell_type": "code",
   "execution_count": 3,
   "metadata": {
    "hidden": true
   },
   "outputs": [
    {
     "data": {
      "text/html": [
       "<div>\n",
       "<style scoped>\n",
       "    .dataframe tbody tr th:only-of-type {\n",
       "        vertical-align: middle;\n",
       "    }\n",
       "\n",
       "    .dataframe tbody tr th {\n",
       "        vertical-align: top;\n",
       "    }\n",
       "\n",
       "    .dataframe thead th {\n",
       "        text-align: right;\n",
       "    }\n",
       "</style>\n",
       "<table border=\"1\" class=\"dataframe\">\n",
       "  <thead>\n",
       "    <tr style=\"text-align: right;\">\n",
       "      <th></th>\n",
       "      <th>uuid</th>\n",
       "      <th>os</th>\n",
       "      <th>event_type</th>\n",
       "      <th>creation_date</th>\n",
       "    </tr>\n",
       "  </thead>\n",
       "  <tbody>\n",
       "    <tr>\n",
       "      <th>157994</th>\n",
       "      <td>NaN</td>\n",
       "      <td>NaN</td>\n",
       "      <td>install</td>\n",
       "      <td>2016-08-23 14:59:00.0</td>\n",
       "    </tr>\n",
       "    <tr>\n",
       "      <th>159756</th>\n",
       "      <td>NaN</td>\n",
       "      <td>NaN</td>\n",
       "      <td>install</td>\n",
       "      <td>2016-08-26 03:59:45.0</td>\n",
       "    </tr>\n",
       "  </tbody>\n",
       "</table>\n",
       "</div>"
      ],
      "text/plain": [
       "       uuid   os event_type          creation_date\n",
       "157994  NaN  NaN    install  2016-08-23 14:59:00.0\n",
       "159756  NaN  NaN    install  2016-08-26 03:59:45.0"
      ]
     },
     "execution_count": 3,
     "metadata": {},
     "output_type": "execute_result"
    }
   ],
   "source": [
    "data_uicycles[data_uicycles['uuid'].isnull()]"
   ]
  },
  {
   "cell_type": "code",
   "execution_count": 4,
   "metadata": {
    "hidden": true
   },
   "outputs": [
    {
     "name": "stdout",
     "output_type": "stream",
     "text": [
      "data_uicycles NULLS:\n",
      "uuid             0\n",
      "os               0\n",
      "event_type       0\n",
      "creation_date    0\n",
      "dtype: int64\n",
      "\n"
     ]
    }
   ],
   "source": [
    "#removing the nulls records from data_uicycles\n",
    "data_uicycles = data_uicycles[data_uicycles['uuid'].notnull()]\n",
    "\n",
    "print('data_uicycles NULLS:')\n",
    "print(data_uicycles.isnull().sum())\n",
    "print('')"
   ]
  },
  {
   "cell_type": "markdown",
   "metadata": {
    "heading_collapsed": true
   },
   "source": [
    "### C. Quick view of the two dataframes"
   ]
  },
  {
   "cell_type": "code",
   "execution_count": 5,
   "metadata": {
    "hidden": true,
    "scrolled": true
   },
   "outputs": [
    {
     "name": "stdout",
     "output_type": "stream",
     "text": [
      "data_eventdump : \n"
     ]
    },
    {
     "data": {
      "text/html": [
       "<div>\n",
       "<style scoped>\n",
       "    .dataframe tbody tr th:only-of-type {\n",
       "        vertical-align: middle;\n",
       "    }\n",
       "\n",
       "    .dataframe tbody tr th {\n",
       "        vertical-align: top;\n",
       "    }\n",
       "\n",
       "    .dataframe thead th {\n",
       "        text-align: right;\n",
       "    }\n",
       "</style>\n",
       "<table border=\"1\" class=\"dataframe\">\n",
       "  <thead>\n",
       "    <tr style=\"text-align: right;\">\n",
       "      <th></th>\n",
       "      <th>uuid</th>\n",
       "      <th>event</th>\n",
       "      <th>event_timestamp</th>\n",
       "      <th>properties</th>\n",
       "    </tr>\n",
       "  </thead>\n",
       "  <tbody>\n",
       "    <tr>\n",
       "      <th>0</th>\n",
       "      <td>43e1796c34ac2a91</td>\n",
       "      <td>Cart is viewed</td>\n",
       "      <td>2016-08-29 02:07:56.88</td>\n",
       "      <td>{\"email_id\": \"careers24@gmail.com\", \"timeStamp...</td>\n",
       "    </tr>\n",
       "    <tr>\n",
       "      <th>1</th>\n",
       "      <td>3065bf9960737af</td>\n",
       "      <td>Cart is viewed</td>\n",
       "      <td>2016-08-29 03:04:00.08</td>\n",
       "      <td>{\"email_id\": \"devangnipathak@gmail.com\", \"time...</td>\n",
       "    </tr>\n",
       "    <tr>\n",
       "      <th>2</th>\n",
       "      <td>636677073e9445e3</td>\n",
       "      <td>Search results page viewed</td>\n",
       "      <td>2016-08-29 00:26:23.213</td>\n",
       "      <td>{\"category\": \"Panties\", \"timeStamp\": \"29-08-20...</td>\n",
       "    </tr>\n",
       "    <tr>\n",
       "      <th>3</th>\n",
       "      <td>75f156f9584ffccf</td>\n",
       "      <td>Push notification received</td>\n",
       "      <td>2016-08-29 02:31:20.89</td>\n",
       "      <td>{\"timeStamp\": \"29-08-2016 08:05:40\"}</td>\n",
       "    </tr>\n",
       "    <tr>\n",
       "      <th>4</th>\n",
       "      <td>651557edb4a564b0</td>\n",
       "      <td>Search is initiated</td>\n",
       "      <td>2016-08-29 03:12:53.29</td>\n",
       "      <td>{\"search_query\": \"bra for 19 years old \", \"tim...</td>\n",
       "    </tr>\n",
       "  </tbody>\n",
       "</table>\n",
       "</div>"
      ],
      "text/plain": [
       "               uuid                       event          event_timestamp  \\\n",
       "0  43e1796c34ac2a91              Cart is viewed   2016-08-29 02:07:56.88   \n",
       "1   3065bf9960737af              Cart is viewed   2016-08-29 03:04:00.08   \n",
       "2  636677073e9445e3  Search results page viewed  2016-08-29 00:26:23.213   \n",
       "3  75f156f9584ffccf  Push notification received   2016-08-29 02:31:20.89   \n",
       "4  651557edb4a564b0         Search is initiated   2016-08-29 03:12:53.29   \n",
       "\n",
       "                                          properties  \n",
       "0  {\"email_id\": \"careers24@gmail.com\", \"timeStamp...  \n",
       "1  {\"email_id\": \"devangnipathak@gmail.com\", \"time...  \n",
       "2  {\"category\": \"Panties\", \"timeStamp\": \"29-08-20...  \n",
       "3               {\"timeStamp\": \"29-08-2016 08:05:40\"}  \n",
       "4  {\"search_query\": \"bra for 19 years old \", \"tim...  "
      ]
     },
     "execution_count": 5,
     "metadata": {},
     "output_type": "execute_result"
    }
   ],
   "source": [
    "print('data_eventdump : ')\n",
    "data_eventdump.head()"
   ]
  },
  {
   "cell_type": "code",
   "execution_count": 6,
   "metadata": {
    "hidden": true
   },
   "outputs": [
    {
     "name": "stdout",
     "output_type": "stream",
     "text": [
      "data_uicycles : \n"
     ]
    },
    {
     "data": {
      "text/html": [
       "<div>\n",
       "<style scoped>\n",
       "    .dataframe tbody tr th:only-of-type {\n",
       "        vertical-align: middle;\n",
       "    }\n",
       "\n",
       "    .dataframe tbody tr th {\n",
       "        vertical-align: top;\n",
       "    }\n",
       "\n",
       "    .dataframe thead th {\n",
       "        text-align: right;\n",
       "    }\n",
       "</style>\n",
       "<table border=\"1\" class=\"dataframe\">\n",
       "  <thead>\n",
       "    <tr style=\"text-align: right;\">\n",
       "      <th></th>\n",
       "      <th>uuid</th>\n",
       "      <th>os</th>\n",
       "      <th>event_type</th>\n",
       "      <th>creation_date</th>\n",
       "    </tr>\n",
       "  </thead>\n",
       "  <tbody>\n",
       "    <tr>\n",
       "      <th>0</th>\n",
       "      <td>a9ba6d0cd8586a4f</td>\n",
       "      <td>Android</td>\n",
       "      <td>install</td>\n",
       "      <td>2016-08-06 19:54:47.0</td>\n",
       "    </tr>\n",
       "    <tr>\n",
       "      <th>1</th>\n",
       "      <td>7365ac7d0721bbf0</td>\n",
       "      <td>Android</td>\n",
       "      <td>re-install</td>\n",
       "      <td>2016-08-14 16:04:45.0</td>\n",
       "    </tr>\n",
       "    <tr>\n",
       "      <th>2</th>\n",
       "      <td>4bf1a1368533ad74</td>\n",
       "      <td>Android</td>\n",
       "      <td>uninstall</td>\n",
       "      <td>2016-08-06 17:40:18.0</td>\n",
       "    </tr>\n",
       "    <tr>\n",
       "      <th>3</th>\n",
       "      <td>8f2a30a777e2714b</td>\n",
       "      <td>Android</td>\n",
       "      <td>install</td>\n",
       "      <td>2016-08-31 05:25:24.0</td>\n",
       "    </tr>\n",
       "    <tr>\n",
       "      <th>4</th>\n",
       "      <td>cd002b38b452db4c</td>\n",
       "      <td>Android</td>\n",
       "      <td>install</td>\n",
       "      <td>2016-08-20 20:19:06.0</td>\n",
       "    </tr>\n",
       "  </tbody>\n",
       "</table>\n",
       "</div>"
      ],
      "text/plain": [
       "               uuid       os  event_type          creation_date\n",
       "0  a9ba6d0cd8586a4f  Android     install  2016-08-06 19:54:47.0\n",
       "1  7365ac7d0721bbf0  Android  re-install  2016-08-14 16:04:45.0\n",
       "2  4bf1a1368533ad74  Android   uninstall  2016-08-06 17:40:18.0\n",
       "3  8f2a30a777e2714b  Android     install  2016-08-31 05:25:24.0\n",
       "4  cd002b38b452db4c  Android     install  2016-08-20 20:19:06.0"
      ]
     },
     "execution_count": 6,
     "metadata": {},
     "output_type": "execute_result"
    }
   ],
   "source": [
    "print('data_uicycles : ')\n",
    "data_uicycles.head()"
   ]
  },
  {
   "cell_type": "markdown",
   "metadata": {
    "heading_collapsed": true
   },
   "source": [
    "### D. Lifetime cycles trends"
   ]
  },
  {
   "cell_type": "code",
   "execution_count": 7,
   "metadata": {
    "hidden": true
   },
   "outputs": [],
   "source": [
    "#here we are assuming that the life cycle starts from re-install/install\n",
    "#hence we are harmonizing the data making all the 're-install' to 'install'\n",
    "data_uicycles.loc[data_uicycles['event_type'] == 're-install','event_type'] = 'install'"
   ]
  },
  {
   "cell_type": "code",
   "execution_count": 8,
   "metadata": {
    "hidden": true
   },
   "outputs": [],
   "source": [
    "#here we are generating the ranks in the dataframe which will help in the step after the \n",
    "#merge statement where we create the life cycle rows\n",
    "#rank is generated sorting by ['uuid','creation_date']\n",
    "cols = ['uuid','creation_date']\n",
    "tups = data_uicycles.sort_values(cols).apply(tuple,1)\n",
    "f, i = pd.factorize(tups)\n",
    "factorized = pd.Series(f + 1, tups.index)\n",
    "\n",
    "data_uicycles['Rank'] = factorized"
   ]
  },
  {
   "cell_type": "code",
   "execution_count": 9,
   "metadata": {
    "hidden": true
   },
   "outputs": [],
   "source": [
    "#this rank is used in the logic for the merge statement\n",
    "data_uicycles ['Rank_inter']  = data_uicycles ['Rank'] + 1"
   ]
  },
  {
   "cell_type": "code",
   "execution_count": 10,
   "metadata": {
    "hidden": true
   },
   "outputs": [
    {
     "data": {
      "text/html": [
       "<div>\n",
       "<style scoped>\n",
       "    .dataframe tbody tr th:only-of-type {\n",
       "        vertical-align: middle;\n",
       "    }\n",
       "\n",
       "    .dataframe tbody tr th {\n",
       "        vertical-align: top;\n",
       "    }\n",
       "\n",
       "    .dataframe thead th {\n",
       "        text-align: right;\n",
       "    }\n",
       "</style>\n",
       "<table border=\"1\" class=\"dataframe\">\n",
       "  <thead>\n",
       "    <tr style=\"text-align: right;\">\n",
       "      <th></th>\n",
       "      <th>uuid</th>\n",
       "      <th>os</th>\n",
       "      <th>event_type</th>\n",
       "      <th>creation_date</th>\n",
       "      <th>Rank</th>\n",
       "      <th>Rank_inter</th>\n",
       "    </tr>\n",
       "  </thead>\n",
       "  <tbody>\n",
       "    <tr>\n",
       "      <th>112941</th>\n",
       "      <td>085d478f5ec1c379</td>\n",
       "      <td>Android</td>\n",
       "      <td>install</td>\n",
       "      <td>2016-08-29 02:31:34.0</td>\n",
       "      <td>1</td>\n",
       "      <td>2</td>\n",
       "    </tr>\n",
       "    <tr>\n",
       "      <th>112881</th>\n",
       "      <td>085d478f5ec1c379</td>\n",
       "      <td>Android</td>\n",
       "      <td>uninstall</td>\n",
       "      <td>2016-08-30 05:51:25.0</td>\n",
       "      <td>2</td>\n",
       "      <td>3</td>\n",
       "    </tr>\n",
       "    <tr>\n",
       "      <th>15743</th>\n",
       "      <td>10001b8438ddec6</td>\n",
       "      <td>Android</td>\n",
       "      <td>install</td>\n",
       "      <td>2016-08-08 10:36:31.0</td>\n",
       "      <td>3</td>\n",
       "      <td>4</td>\n",
       "    </tr>\n",
       "    <tr>\n",
       "      <th>15803</th>\n",
       "      <td>10001b8438ddec6</td>\n",
       "      <td>Android</td>\n",
       "      <td>uninstall</td>\n",
       "      <td>2016-08-09 17:33:51.0</td>\n",
       "      <td>4</td>\n",
       "      <td>5</td>\n",
       "    </tr>\n",
       "    <tr>\n",
       "      <th>25087</th>\n",
       "      <td>10007e773c846312</td>\n",
       "      <td>Android</td>\n",
       "      <td>uninstall</td>\n",
       "      <td>2016-08-06 17:40:14.0</td>\n",
       "      <td>5</td>\n",
       "      <td>6</td>\n",
       "    </tr>\n",
       "  </tbody>\n",
       "</table>\n",
       "</div>"
      ],
      "text/plain": [
       "                    uuid       os event_type          creation_date  Rank  \\\n",
       "112941  085d478f5ec1c379  Android    install  2016-08-29 02:31:34.0     1   \n",
       "112881  085d478f5ec1c379  Android  uninstall  2016-08-30 05:51:25.0     2   \n",
       "15743    10001b8438ddec6  Android    install  2016-08-08 10:36:31.0     3   \n",
       "15803    10001b8438ddec6  Android  uninstall  2016-08-09 17:33:51.0     4   \n",
       "25087   10007e773c846312  Android  uninstall  2016-08-06 17:40:14.0     5   \n",
       "\n",
       "        Rank_inter  \n",
       "112941           2  \n",
       "112881           3  \n",
       "15743            4  \n",
       "15803            5  \n",
       "25087            6  "
      ]
     },
     "execution_count": 10,
     "metadata": {},
     "output_type": "execute_result"
    }
   ],
   "source": [
    "data_uicycles.sort_values(by = 'Rank').head()"
   ]
  },
  {
   "cell_type": "code",
   "execution_count": 11,
   "metadata": {
    "hidden": true,
    "scrolled": false
   },
   "outputs": [],
   "source": [
    "joined = pd.merge(\n",
    "    data_uicycles, data_uicycles, left_on='Rank',\n",
    "    right_on='Rank_inter').sort_values('Rank_x')"
   ]
  },
  {
   "cell_type": "code",
   "execution_count": 12,
   "metadata": {
    "hidden": true
   },
   "outputs": [],
   "source": [
    "#this filter_joined dataframe is the list of all the cycles we have derived from our data.\n",
    "#assumptions only the complete cycles have been considered.\n",
    "#complete cycles = both install and uninstall is been present\n",
    "filter_joined = joined[(joined['event_type_x'] == 'uninstall')\n",
    "                       & (joined['event_type_y'] == 'install') &\n",
    "                       (joined['uuid_x'] == joined['uuid_y'])]"
   ]
  },
  {
   "cell_type": "code",
   "execution_count": 13,
   "metadata": {
    "hidden": true
   },
   "outputs": [],
   "source": [
    "#cycle_data this contains the time in hrs of each and every completed cycle in our data\n",
    "cycle_data = pd.to_datetime(filter_joined['creation_date_x']) - pd.to_datetime(filter_joined['creation_date_y'])\n",
    "cycle_data_hours = (cycle_data.dt.seconds/3600 + cycle_data.dt.days*24)"
   ]
  },
  {
   "cell_type": "code",
   "execution_count": 14,
   "metadata": {
    "hidden": true
   },
   "outputs": [
    {
     "data": {
      "text/plain": [
       "112881   1 days 03:19:51\n",
       "15803    1 days 06:57:20\n",
       "24495    1 days 01:45:28\n",
       "141378   1 days 00:46:45\n",
       "16105    2 days 20:56:39\n",
       "dtype: timedelta64[ns]"
      ]
     },
     "execution_count": 14,
     "metadata": {},
     "output_type": "execute_result"
    }
   ],
   "source": [
    "#each row is one install/uninstall event for a uuid\n",
    "#multiple rows may exist for a given uuid\n",
    "cycle_data.head()"
   ]
  },
  {
   "cell_type": "code",
   "execution_count": 15,
   "metadata": {
    "hidden": true
   },
   "outputs": [
    {
     "data": {
      "text/plain": [
       "<matplotlib.text.Text at 0x1141e6b38>"
      ]
     },
     "execution_count": 15,
     "metadata": {},
     "output_type": "execute_result"
    },
    {
     "data": {
      "image/png": "[encoded data removed]",
      "text/plain": [
       "<matplotlib.figure.Figure at 0x11c274d30>"
      ]
     },
     "metadata": {},
     "output_type": "display_data"
    }
   ],
   "source": [
    "#plotting the complete distribution\n",
    "cycle_data_hours.hist(bins = 1000,figsize=(6,6))\n",
    "plt.title('Complete histogram')\n",
    "plt.xlabel('hrs') \n",
    "plt.ylabel('count') \n"
   ]
  },
  {
   "cell_type": "code",
   "execution_count": 16,
   "metadata": {
    "hidden": true
   },
   "outputs": [
    {
     "data": {
      "text/plain": [
       "<matplotlib.text.Text at 0x12d4e2e80>"
      ]
     },
     "execution_count": 16,
     "metadata": {},
     "output_type": "execute_result"
    },
    {
     "data": {
      "image/png": "[encoded data removed]",
      "text/plain": [
       "<matplotlib.figure.Figure at 0x110fa9550>"
      ]
     },
     "metadata": {},
     "output_type": "display_data"
    }
   ],
   "source": [
    "#we can clearly see that there are two peaks of the cycle life @25 hrs and 36 hrs\n",
    "plt.subplot(1, 3, 1)\n",
    "cycle_data_hours[(cycle_data_hours < 100)].hist(bins = 160,figsize=(18,6))\n",
    "plt.title('Zoomed in (cycle_data_hours < 100)')\n",
    "plt.xlabel('hrs') \n",
    "plt.ylabel('count') \n",
    "\n",
    "plt.subplot(1, 3, 2)\n",
    "plt.title('Zoomed in(cycle_data_hours < 40) & (cycle_data_hours > 20)')\n",
    "cycle_data_hours[(cycle_data_hours < 40) & (cycle_data_hours > 20)].hist(bins = 100)\n",
    "plt.xlabel('hrs') "
   ]
  },
  {
   "cell_type": "markdown",
   "metadata": {
    "heading_collapsed": true
   },
   "source": [
    "### E.  Customer Activity"
   ]
  },
  {
   "cell_type": "code",
   "execution_count": 17,
   "metadata": {
    "hidden": true
   },
   "outputs": [
    {
     "data": {
      "text/plain": [
       "array(['Cart is viewed', 'Search results page viewed',\n",
       "       'Push notification received', 'Search is initiated',\n",
       "       'Product is added to cart', 'Sub-Category is viewed',\n",
       "       'Search icon clicked', 'Category is viewed', 'Login initiated',\n",
       "       'Product detail is viewed', 'User has logged in',\n",
       "       'Product is added to wishlist', 'Place Order is initiated',\n",
       "       'Product review is viewed', 'Login failed', 'Signup is initiated',\n",
       "       'Add shipping address', 'Product is shared',\n",
       "       'Search returned 0 results', 'Banner is viewed',\n",
       "       'Login or signup checkout', 'Pincode Check',\n",
       "       'Checkout is completed by Cash On Delivery', 'Push Event Clicked',\n",
       "       'Checkout is completed by Credit Cards / Debit Cards / Net Banking',\n",
       "       'Shipping addresss added', 'Signup failed',\n",
       "       'Guest checkout initiated', 'Push notification opened',\n",
       "       'Checkout is completed by Paid using zCoins', 'Checkout Failed',\n",
       "       'Brand page is viewed', 'Checkout is completed by PG',\n",
       "       'Checkout is completed by null', 'download_source',\n",
       "       'uio_push_token', 'Product is viewed'], dtype=object)"
      ]
     },
     "execution_count": 17,
     "metadata": {},
     "output_type": "execute_result"
    }
   ],
   "source": [
    "#printing the list of all the unique events in the data_eventdump\n",
    "data_eventdump['event'].unique()"
   ]
  },
  {
   "cell_type": "code",
   "execution_count": 18,
   "metadata": {
    "hidden": true
   },
   "outputs": [],
   "source": [
    "#replacing the nulls with 'nulls ' in the 'properties' because it was throwing an error\n",
    "#when i was trying to convert it to a dict\n",
    "#for analysis\n",
    "data_eventdump['properties'] = data_eventdump['properties'].str.replace(' null','\"null\"')"
   ]
  },
  {
   "cell_type": "code",
   "execution_count": 19,
   "metadata": {
    "hidden": true
   },
   "outputs": [],
   "source": [
    "#getting the list of unique attributes in the properties column\n",
    "#this step uses a for loop as i did not have an exhaustive list of these attributes beforehand.\n",
    "#this steps takes the longest as well. :(\n",
    "final = set()\n",
    "for i in range(995304):\n",
    "    a = data_eventdump.loc[i,'properties']\n",
    "    #print(a)\n",
    "    b = set(ast.literal_eval(a).keys())\n",
    "    #data_eventdump[i,'parsed_timestamp'] = (ast.literal_eval(a)['timeStamp'])\n",
    "    final = final.union(b)"
   ]
  },
  {
   "cell_type": "code",
   "execution_count": 20,
   "metadata": {
    "hidden": true
   },
   "outputs": [
    {
     "name": "stdout",
     "output_type": "stream",
     "text": [
      "{'email_id', 'search_query', 'Category', 'pincode', 'PINCode Status', 'Login From', 'push_token', 'Sub-Category name', 'Login Type', 'user_login_type', 'status', 'Search String', 'email', 'user_coming_from', 'Product Name', 'clicked_banner_position', 'Brand Name', 'Cart Value', 'cat_name', 'payment_mode', 'shipping', 'discount', 'ns_cart_amount', 'No Of Products', 'category', 'PinCode', 'timeStamp', 'ts', 'PUSH MESSAGE', 'total', 'utm_source', 'SignIn From', 'utm_medium', 'grand_total', 'Search Query', 'categoryname', 'ns_cart_price', 'z_coins', 'pin_code', 'subtotal', 'Product SKU', 'orderId', 'SignIn Type'}\n"
     ]
    }
   ],
   "source": [
    "#printing all the unique data that can be presnent in the 'properties'\n",
    "print(final)"
   ]
  },
  {
   "cell_type": "code",
   "execution_count": 21,
   "metadata": {
    "hidden": true
   },
   "outputs": [],
   "source": [
    "#data_eventdump['parsed_timestamp'] = 'q'\n",
    "#lister = []\n",
    "#for i in range(995304):\n",
    "#\n",
    "#    a = data_eventdump.loc[i,'properties']\n",
    "#    #data_eventdump.loc[i,'parsed_timestamp'] = (ast.literal_eval(a).get('timeStamp',np.nan))\n",
    "#    lister.append((ast.literal_eval(a).get('timeStamp',np.nan)))\n",
    "#    final = final.union(b)\n",
    "#\n",
    "#\n",
    "#data_eventdump['parsed_timestamp'] = pd.Series(lister)"
   ]
  },
  {
   "cell_type": "code",
   "execution_count": 22,
   "metadata": {
    "hidden": true
   },
   "outputs": [],
   "source": [
    "#for checking when was the used most active,\n",
    "#we extract the event_timestamp and convert it to time of the day\n",
    "activiy_time  = pd.to_datetime(data_eventdump['event_timestamp'])"
   ]
  },
  {
   "cell_type": "code",
   "execution_count": 23,
   "metadata": {
    "hidden": true,
    "scrolled": false
   },
   "outputs": [
    {
     "data": {
      "text/plain": [
       "<matplotlib.text.Text at 0x12eec6d30>"
      ]
     },
     "execution_count": 23,
     "metadata": {},
     "output_type": "execute_result"
    },
    {
     "data": {
      "image/png": "[encoded data removed]",
      "text/plain": [
       "<matplotlib.figure.Figure at 0x12c9d9278>"
      ]
     },
     "metadata": {},
     "output_type": "display_data"
    }
   ],
   "source": [
    "#this will give us an idea of the general distribution of the data over the entire day\n",
    "activiy_time.dt.time.hist(bins = 100)\n",
    "plt.title('Complete histogram')\n",
    "plt.xlabel('time of the day') \n",
    "plt.ylabel('count') \n"
   ]
  },
  {
   "cell_type": "code",
   "execution_count": 24,
   "metadata": {
    "hidden": true
   },
   "outputs": [
    {
     "data": {
      "text/plain": [
       "<matplotlib.text.Text at 0x144680e80>"
      ]
     },
     "execution_count": 24,
     "metadata": {},
     "output_type": "execute_result"
    },
    {
     "data": {
      "image/png": "[encoded data removed]",
      "text/plain": [
       "<matplotlib.figure.Figure at 0x12f00f550>"
      ]
     },
     "metadata": {},
     "output_type": "display_data"
    }
   ],
   "source": [
    "#now let us try to zoom into the two main peaks of the data that we can observe\n",
    "plt.subplot(1, 3, 1)\n",
    "activiy_time.dt.time [(activiy_time.dt.time > datetime.time(4, 0, 0)) & (activiy_time.dt.time < datetime.time(7, 0, 0))].hist(bins = 100, figsize = (22,6))\n",
    "plt.title('Zoomed in (cycle_data_hours between 4 am and 7 am)')\n",
    "plt.xlabel('time of the day') \n",
    "plt.ylabel('count') \n",
    "\n",
    "plt.subplot(1, 3, 2)\n",
    "plt.title('Zoomed in between 3 pm and 9 pm')\n",
    "activiy_time.dt.time [(activiy_time.dt.time > datetime.time(15, 0, 0)) & (activiy_time.dt.time < datetime.time(21, 0, 0))].hist(bins = 100)\n",
    "plt.xlabel('time of the day') \n",
    "\n",
    "#we can see that there are two peaks : one at around 5:30 am  and one in the evening at 6pm\n"
   ]
  },
  {
   "cell_type": "code",
   "execution_count": 25,
   "metadata": {
    "hidden": true
   },
   "outputs": [
    {
     "data": {
      "text/plain": [
       "<matplotlib.axes._subplots.AxesSubplot at 0x12d642ef0>"
      ]
     },
     "execution_count": 25,
     "metadata": {},
     "output_type": "execute_result"
    },
    {
     "data": {
      "image/png": "[encoded data removed]",
      "text/plain": [
       "<matplotlib.figure.Figure at 0x12ef51b00>"
      ]
     },
     "metadata": {},
     "output_type": "display_data"
    }
   ],
   "source": [
    "#with hourly bin size = 24\n",
    "activiy_time.dt.time.hist(bins = 24)"
   ]
  },
  {
   "cell_type": "code",
   "execution_count": 26,
   "metadata": {
    "hidden": true
   },
   "outputs": [],
   "source": [
    "#data_eventdump.groupby('event').size()/data_eventdump.shape[0]*(100)"
   ]
  },
  {
   "cell_type": "markdown",
   "metadata": {
    "heading_collapsed": true
   },
   "source": [
    "### F.  Purchase value buckets"
   ]
  },
  {
   "cell_type": "code",
   "execution_count": 27,
   "metadata": {
    "hidden": true,
    "scrolled": false
   },
   "outputs": [
    {
     "data": {
      "text/plain": [
       "{'Brand Name',\n",
       " 'Cart Value',\n",
       " 'Category',\n",
       " 'Login From',\n",
       " 'Login Type',\n",
       " 'No Of Products',\n",
       " 'PINCode Status',\n",
       " 'PUSH MESSAGE',\n",
       " 'PinCode',\n",
       " 'Product Name',\n",
       " 'Product SKU',\n",
       " 'Search Query',\n",
       " 'Search String',\n",
       " 'SignIn From',\n",
       " 'SignIn Type',\n",
       " 'Sub-Category name',\n",
       " 'cat_name',\n",
       " 'category',\n",
       " 'categoryname',\n",
       " 'clicked_banner_position',\n",
       " 'discount',\n",
       " 'email',\n",
       " 'email_id',\n",
       " 'grand_total',\n",
       " 'ns_cart_amount',\n",
       " 'ns_cart_price',\n",
       " 'orderId',\n",
       " 'payment_mode',\n",
       " 'pin_code',\n",
       " 'pincode',\n",
       " 'push_token',\n",
       " 'search_query',\n",
       " 'shipping',\n",
       " 'status',\n",
       " 'subtotal',\n",
       " 'timeStamp',\n",
       " 'total',\n",
       " 'ts',\n",
       " 'user_coming_from',\n",
       " 'user_login_type',\n",
       " 'utm_medium',\n",
       " 'utm_source',\n",
       " 'z_coins'}"
      ]
     },
     "execution_count": 27,
     "metadata": {},
     "output_type": "execute_result"
    }
   ],
   "source": [
    "#Purchase value buckets [find purchase/checkout events \n",
    "#from event logs and parse the 'properties' column to get total value \n",
    "#associated and generate a simple bucketed frequency chart/histogram plot]\n",
    "final"
   ]
  },
  {
   "cell_type": "code",
   "execution_count": 28,
   "metadata": {
    "hidden": true
   },
   "outputs": [
    {
     "data": {
      "text/plain": [
       "['Cart is viewed',\n",
       " 'Search results page viewed',\n",
       " 'Push notification received',\n",
       " 'Search is initiated',\n",
       " 'Product is added to cart',\n",
       " 'Sub-Category is viewed',\n",
       " 'Search icon clicked',\n",
       " 'Category is viewed',\n",
       " 'Login initiated',\n",
       " 'Product detail is viewed',\n",
       " 'User has logged in',\n",
       " 'Product is added to wishlist',\n",
       " 'Place Order is initiated',\n",
       " 'Product review is viewed',\n",
       " 'Login failed',\n",
       " 'Signup is initiated',\n",
       " 'Add shipping address',\n",
       " 'Product is shared',\n",
       " 'Search returned 0 results',\n",
       " 'Banner is viewed',\n",
       " 'Login or signup checkout',\n",
       " 'Pincode Check',\n",
       " 'Checkout is completed by Cash On Delivery',\n",
       " 'Push Event Clicked',\n",
       " 'Checkout is completed by Credit Cards / Debit Cards / Net Banking',\n",
       " 'Shipping addresss added',\n",
       " 'Signup failed',\n",
       " 'Guest checkout initiated',\n",
       " 'Push notification opened',\n",
       " 'Checkout is completed by Paid using zCoins',\n",
       " 'Checkout Failed',\n",
       " 'Brand page is viewed',\n",
       " 'Checkout is completed by PG',\n",
       " 'Checkout is completed by null',\n",
       " 'download_source',\n",
       " 'uio_push_token',\n",
       " 'Product is viewed']"
      ]
     },
     "execution_count": 28,
     "metadata": {},
     "output_type": "execute_result"
    }
   ],
   "source": [
    "list(data_eventdump['event'].unique())"
   ]
  },
  {
   "cell_type": "code",
   "execution_count": 29,
   "metadata": {
    "hidden": true
   },
   "outputs": [],
   "source": [
    "#events considered by me for confirming the purchase\n",
    "events = [\n",
    "    'Checkout is completed by Cash On Delivery',\n",
    "    'Checkout is completed by Credit Cards / Debit Cards / Net Banking',\n",
    "    'Checkout is completed by Paid using zCoins',\n",
    "    'Checkout is completed by PG', 'Checkout is completed by null'\n",
    "]"
   ]
  },
  {
   "cell_type": "code",
   "execution_count": 30,
   "metadata": {
    "hidden": true,
    "scrolled": false
   },
   "outputs": [],
   "source": [
    "#data_eventdump[data_eventdump['event'].isin(events)]"
   ]
  },
  {
   "cell_type": "code",
   "execution_count": 31,
   "metadata": {
    "hidden": true
   },
   "outputs": [],
   "source": [
    "#this step extracts the attributes of 'No Of Products','total','subtotal' from the \n",
    "#'properties' columns\n",
    "\n",
    "lister_product_no = []\n",
    "lister_total = []\n",
    "lister_subtotal = []\n",
    "\n",
    "for i in range(995304):\n",
    "\n",
    "    a = data_eventdump.loc[i,'properties']\n",
    "    #data_eventdump.loc[i,'parsed_timestamp'] = (ast.literal_eval(a).get('timeStamp',np.nan))\n",
    "    lister_product_no.append((ast.literal_eval(a).get('No Of Products',np.nan)))\n",
    "    lister_total.append((ast.literal_eval(a).get('total',np.nan)))\n",
    "    lister_subtotal.append((ast.literal_eval(a).get('subtotal',np.nan)))\n"
   ]
  },
  {
   "cell_type": "code",
   "execution_count": 32,
   "metadata": {
    "hidden": true
   },
   "outputs": [
    {
     "name": "stdout",
     "output_type": "stream",
     "text": [
      "995304\n",
      "995304\n",
      "995304\n"
     ]
    }
   ],
   "source": [
    "print(len(lister_product_no))\n",
    "print(len(lister_total))\n",
    "print(len(lister_subtotal))"
   ]
  },
  {
   "cell_type": "code",
   "execution_count": 33,
   "metadata": {
    "hidden": true
   },
   "outputs": [],
   "source": [
    "#we combine the data into a new dataframe for analysis\n",
    "value_dataframe = pd.DataFrame({'product_no':lister_product_no,'total':lister_total,'subtotal':lister_subtotal})"
   ]
  },
  {
   "cell_type": "code",
   "execution_count": 34,
   "metadata": {
    "hidden": true,
    "scrolled": false
   },
   "outputs": [
    {
     "data": {
      "text/plain": [
       "<matplotlib.text.Text at 0x142870160>"
      ]
     },
     "execution_count": 34,
     "metadata": {},
     "output_type": "execute_result"
    },
    {
     "data": {
      "image/png": "[encoded data removed]",
      "text/plain": [
       "<matplotlib.figure.Figure at 0x1429e2f98>"
      ]
     },
     "metadata": {},
     "output_type": "display_data"
    }
   ],
   "source": [
    "#clearly see that majority of the total cost is clustered around 1000-500\n",
    "value_dataframe[value_dataframe['total'].notnull()]['total'].hist(bins = 30)\n",
    "plt.xlabel('total') \n",
    "plt.ylabel('count') "
   ]
  },
  {
   "cell_type": "code",
   "execution_count": 35,
   "metadata": {
    "hidden": true
   },
   "outputs": [
    {
     "data": {
      "text/plain": [
       "<matplotlib.text.Text at 0x142780240>"
      ]
     },
     "execution_count": 35,
     "metadata": {},
     "output_type": "execute_result"
    },
    {
     "data": {
      "image/png": "[encoded data removed]",
      "text/plain": [
       "<matplotlib.figure.Figure at 0x13de19630>"
      ]
     },
     "metadata": {},
     "output_type": "display_data"
    }
   ],
   "source": [
    "#lets zoom into total less than 2000 for more clarity\n",
    "#clearly we see two clusters at around 1000 and 5000\n",
    "value_dataframe[(value_dataframe['total'].notnull())& (value_dataframe['total'] < 2000)]['total'].hist(bins = 30)\n",
    "plt.xlabel('total') \n",
    "plt.ylabel('count') "
   ]
  },
  {
   "cell_type": "markdown",
   "metadata": {
    "heading_collapsed": true
   },
   "source": [
    "### G. Behavior of purchasing and non-purchasing customers"
   ]
  },
  {
   "cell_type": "code",
   "execution_count": 36,
   "metadata": {
    "hidden": true
   },
   "outputs": [],
   "source": [
    "#Behavior of purchasing and non-purchasing customers [something along the lines of \n",
    "#their in-app event frequency in a given install-uninstall cycle]\n",
    "\n",
    "#assuming uuid = customer unique id"
   ]
  },
  {
   "cell_type": "code",
   "execution_count": 37,
   "metadata": {
    "hidden": true,
    "scrolled": false
   },
   "outputs": [],
   "source": [
    "#generating the sets with the buying and non buying customers\n",
    "#note that this distcinction is madee on the 4 events \n",
    "\n",
    "    #'Checkout is completed by Cash On Delivery',\n",
    "    #'Checkout is completed by Credit Cards / Debit Cards / Net Banking',\n",
    "    #'Checkout is completed by Paid using zCoins',\n",
    "    #'Checkout is completed by PG', 'Checkout is completed by null'\n",
    "\n",
    "all_uuid = set(data_eventdump['uuid'].unique())\n",
    "buyers = set(data_eventdump[data_eventdump['event'].isin(events)]['uuid'].unique())\n",
    "non_buyers =  all_uuid.difference(buyers)"
   ]
  },
  {
   "cell_type": "code",
   "execution_count": 38,
   "metadata": {
    "hidden": true
   },
   "outputs": [
    {
     "name": "stdout",
     "output_type": "stream",
     "text": [
      "72805\n",
      "3529\n",
      "69276\n"
     ]
    }
   ],
   "source": [
    "print(len(all_uuid))\n",
    "print(len(buyers))\n",
    "print(len(non_buyers))"
   ]
  },
  {
   "cell_type": "code",
   "execution_count": 39,
   "metadata": {
    "hidden": true,
    "scrolled": false
   },
   "outputs": [],
   "source": [
    "#here we group by the uuids for the buyers and non buyers and the number of events they have\n",
    "event_number_buyers = data_eventdump[data_eventdump['uuid'].isin(buyers)].groupby('uuid').size()\n",
    "event_number_non_buyers = data_eventdump[data_eventdump['uuid'].isin(non_buyers)].groupby('uuid').size()"
   ]
  },
  {
   "cell_type": "code",
   "execution_count": 40,
   "metadata": {
    "hidden": true
   },
   "outputs": [
    {
     "data": {
      "text/plain": [
       "<matplotlib.text.Text at 0x12f0fc898>"
      ]
     },
     "execution_count": 40,
     "metadata": {},
     "output_type": "execute_result"
    },
    {
     "data": {
      "image/png": "[encoded data removed]",
      "text/plain": [
       "<matplotlib.figure.Figure at 0x12ef61c88>"
      ]
     },
     "metadata": {},
     "output_type": "display_data"
    }
   ],
   "source": [
    "#non buyers first\n",
    "#non buyers are rarely active on the app\n",
    "plt.subplot(1, 3, 1)\n",
    "\n",
    "event_number_non_buyers[event_number_non_buyers< 100].hist(figsize=(22,6))\n",
    "plt.title('Non Buyers')\n",
    "plt.xlabel('event number') \n",
    "plt.ylabel('count') \n",
    "\n",
    "plt.subplot(1, 3, 2)\n",
    "\n",
    "event_number_non_buyers[event_number_non_buyers< 100].hist(figsize=(22,6))\n",
    "plt.title('Non Buyers')\n",
    "plt.xlabel('event number') "
   ]
  },
  {
   "cell_type": "code",
   "execution_count": 41,
   "metadata": {
    "hidden": true
   },
   "outputs": [
    {
     "data": {
      "text/plain": [
       "<matplotlib.text.Text at 0x1346571d0>"
      ]
     },
     "execution_count": 41,
     "metadata": {},
     "output_type": "execute_result"
    },
    {
     "data": {
      "image/png": "[encoded data removed]",
      "text/plain": [
       "<matplotlib.figure.Figure at 0x12f0e0550>"
      ]
     },
     "metadata": {},
     "output_type": "display_data"
    }
   ],
   "source": [
    "#buyers\n",
    "#non buyers are more active on the app\n",
    "#their events is clustered in the high 20s and 30s\n",
    "plt.subplot(1, 3, 1)\n",
    "\n",
    "event_number_buyers[event_number_buyers< 100].hist(figsize=(22,6))\n",
    "plt.title('Buyers')\n",
    "plt.xlabel('event number') \n",
    "plt.ylabel('count') \n",
    "\n",
    "plt.subplot(1, 3, 2)\n",
    "\n",
    "event_number_buyers[event_number_buyers< 400].hist()\n",
    "plt.title('Buyers')\n",
    "plt.xlabel('event number') "
   ]
  },
  {
   "cell_type": "markdown",
   "metadata": {},
   "source": [
    "### H.  Week over Week revenue trends for purchasing customers"
   ]
  },
  {
   "cell_type": "code",
   "execution_count": 42,
   "metadata": {},
   "outputs": [],
   "source": [
    "#here we check that in the buyers we have, we only have at max two cycles where purchase has been made\n",
    "#a = cycle_data.sort_values(by = ['uuid_x','creation_date_y']).groupby(by = 'uuid_x').cumcount() + 1\n",
    "#a[cycle_data.sort_values(by = ['uuid_x','creation_date_y']).groupby(by = 'uuid_x').cumcount() + 1 > 1]"
   ]
  },
  {
   "cell_type": "code",
   "execution_count": 43,
   "metadata": {
    "scrolled": false
   },
   "outputs": [],
   "source": [
    "cycle_data = filter_joined[['uuid_x','event_type_y','creation_date_y','event_type_x','creation_date_x']]"
   ]
  },
  {
   "cell_type": "code",
   "execution_count": 44,
   "metadata": {
    "scrolled": false
   },
   "outputs": [
    {
     "data": {
      "text/html": [
       "<div>\n",
       "<style scoped>\n",
       "    .dataframe tbody tr th:only-of-type {\n",
       "        vertical-align: middle;\n",
       "    }\n",
       "\n",
       "    .dataframe tbody tr th {\n",
       "        vertical-align: top;\n",
       "    }\n",
       "\n",
       "    .dataframe thead th {\n",
       "        text-align: right;\n",
       "    }\n",
       "</style>\n",
       "<table border=\"1\" class=\"dataframe\">\n",
       "  <thead>\n",
       "    <tr style=\"text-align: right;\">\n",
       "      <th></th>\n",
       "      <th>uuid_x</th>\n",
       "      <th>event_type_y</th>\n",
       "      <th>creation_date_y</th>\n",
       "      <th>event_type_x</th>\n",
       "      <th>creation_date_x</th>\n",
       "    </tr>\n",
       "  </thead>\n",
       "  <tbody>\n",
       "    <tr>\n",
       "      <th>135863</th>\n",
       "      <td>10f3441c28c083db</td>\n",
       "      <td>install</td>\n",
       "      <td>2016-08-26 07:51:51.0</td>\n",
       "      <td>uninstall</td>\n",
       "      <td>2016-08-30 05:51:15.0</td>\n",
       "    </tr>\n",
       "    <tr>\n",
       "      <th>151217</th>\n",
       "      <td>117544bfcc491ca7</td>\n",
       "      <td>install</td>\n",
       "      <td>2016-08-28 07:25:28.0</td>\n",
       "      <td>uninstall</td>\n",
       "      <td>2016-08-31 18:42:05.0</td>\n",
       "    </tr>\n",
       "    <tr>\n",
       "      <th>145361</th>\n",
       "      <td>11f578925dae72a1</td>\n",
       "      <td>install</td>\n",
       "      <td>2016-08-27 04:01:39.0</td>\n",
       "      <td>uninstall</td>\n",
       "      <td>2016-08-28 18:42:44.0</td>\n",
       "    </tr>\n",
       "    <tr>\n",
       "      <th>111181</th>\n",
       "      <td>12f93f4c5dab959e</td>\n",
       "      <td>install</td>\n",
       "      <td>2016-08-11 09:55:10.0</td>\n",
       "      <td>uninstall</td>\n",
       "      <td>2016-08-14 05:43:09.0</td>\n",
       "    </tr>\n",
       "    <tr>\n",
       "      <th>160170</th>\n",
       "      <td>134bb8b89b236a93</td>\n",
       "      <td>install</td>\n",
       "      <td>2016-08-27 04:09:02.0</td>\n",
       "      <td>uninstall</td>\n",
       "      <td>2016-08-30 17:59:00.0</td>\n",
       "    </tr>\n",
       "  </tbody>\n",
       "</table>\n",
       "</div>"
      ],
      "text/plain": [
       "                  uuid_x event_type_y        creation_date_y event_type_x  \\\n",
       "135863  10f3441c28c083db      install  2016-08-26 07:51:51.0    uninstall   \n",
       "151217  117544bfcc491ca7      install  2016-08-28 07:25:28.0    uninstall   \n",
       "145361  11f578925dae72a1      install  2016-08-27 04:01:39.0    uninstall   \n",
       "111181  12f93f4c5dab959e      install  2016-08-11 09:55:10.0    uninstall   \n",
       "160170  134bb8b89b236a93      install  2016-08-27 04:09:02.0    uninstall   \n",
       "\n",
       "              creation_date_x  \n",
       "135863  2016-08-30 05:51:15.0  \n",
       "151217  2016-08-31 18:42:05.0  \n",
       "145361  2016-08-28 18:42:44.0  \n",
       "111181  2016-08-14 05:43:09.0  \n",
       "160170  2016-08-30 17:59:00.0  "
      ]
     },
     "execution_count": 44,
     "metadata": {},
     "output_type": "execute_result"
    }
   ],
   "source": [
    "#these are the cycles that satisfy our condition of buying something\n",
    "cycle_data = cycle_data[cycle_data['uuid_x'].isin(buyers)]\n",
    "cycle_data.head()"
   ]
  },
  {
   "cell_type": "code",
   "execution_count": 45,
   "metadata": {
    "scrolled": true
   },
   "outputs": [
    {
     "data": {
      "text/html": [
       "<div>\n",
       "<style scoped>\n",
       "    .dataframe tbody tr th:only-of-type {\n",
       "        vertical-align: middle;\n",
       "    }\n",
       "\n",
       "    .dataframe tbody tr th {\n",
       "        vertical-align: top;\n",
       "    }\n",
       "\n",
       "    .dataframe thead th {\n",
       "        text-align: right;\n",
       "    }\n",
       "</style>\n",
       "<table border=\"1\" class=\"dataframe\">\n",
       "  <thead>\n",
       "    <tr style=\"text-align: right;\">\n",
       "      <th></th>\n",
       "      <th>uuid</th>\n",
       "      <th>event</th>\n",
       "      <th>event_timestamp</th>\n",
       "      <th>properties</th>\n",
       "    </tr>\n",
       "  </thead>\n",
       "  <tbody>\n",
       "    <tr>\n",
       "      <th>351755</th>\n",
       "      <td>43e1796c34ac2a91</td>\n",
       "      <td>Checkout is completed by Cash On Delivery</td>\n",
       "      <td>2016-08-25 16:52:59.113</td>\n",
       "      <td>{\"orderId\": \"600731657\", \"timeStamp\": \"25-08-2...</td>\n",
       "    </tr>\n",
       "    <tr>\n",
       "      <th>351815</th>\n",
       "      <td>a9dda7a3e84389f</td>\n",
       "      <td>Checkout is completed by Cash On Delivery</td>\n",
       "      <td>2016-08-25 20:33:24.527</td>\n",
       "      <td>{\"orderId\": \"600731935\", \"timeStamp\": \"26-08-2...</td>\n",
       "    </tr>\n",
       "    <tr>\n",
       "      <th>351875</th>\n",
       "      <td>24fdb36b8483f66a</td>\n",
       "      <td>Checkout is completed by Cash On Delivery</td>\n",
       "      <td>2016-08-26 03:34:00.457</td>\n",
       "      <td>{\"orderId\": \"600732042\", \"timeStamp\": \"26-08-2...</td>\n",
       "    </tr>\n",
       "    <tr>\n",
       "      <th>351935</th>\n",
       "      <td>1ab1d302727b542f</td>\n",
       "      <td>Checkout is completed by Cash On Delivery</td>\n",
       "      <td>2016-08-26 09:56:59.923</td>\n",
       "      <td>{\"orderId\": \"600732494\", \"timeStamp\": \"26-08-2...</td>\n",
       "    </tr>\n",
       "    <tr>\n",
       "      <th>351995</th>\n",
       "      <td>fd7f809337907ced</td>\n",
       "      <td>Checkout is completed by Cash On Delivery</td>\n",
       "      <td>2016-08-26 09:36:08.44</td>\n",
       "      <td>{\"orderId\": \"600732456\", \"timeStamp\": \"26-08-2...</td>\n",
       "    </tr>\n",
       "  </tbody>\n",
       "</table>\n",
       "</div>"
      ],
      "text/plain": [
       "                    uuid                                      event  \\\n",
       "351755  43e1796c34ac2a91  Checkout is completed by Cash On Delivery   \n",
       "351815   a9dda7a3e84389f  Checkout is completed by Cash On Delivery   \n",
       "351875  24fdb36b8483f66a  Checkout is completed by Cash On Delivery   \n",
       "351935  1ab1d302727b542f  Checkout is completed by Cash On Delivery   \n",
       "351995  fd7f809337907ced  Checkout is completed by Cash On Delivery   \n",
       "\n",
       "                event_timestamp  \\\n",
       "351755  2016-08-25 16:52:59.113   \n",
       "351815  2016-08-25 20:33:24.527   \n",
       "351875  2016-08-26 03:34:00.457   \n",
       "351935  2016-08-26 09:56:59.923   \n",
       "351995   2016-08-26 09:36:08.44   \n",
       "\n",
       "                                               properties  \n",
       "351755  {\"orderId\": \"600731657\", \"timeStamp\": \"25-08-2...  \n",
       "351815  {\"orderId\": \"600731935\", \"timeStamp\": \"26-08-2...  \n",
       "351875  {\"orderId\": \"600732042\", \"timeStamp\": \"26-08-2...  \n",
       "351935  {\"orderId\": \"600732494\", \"timeStamp\": \"26-08-2...  \n",
       "351995  {\"orderId\": \"600732456\", \"timeStamp\": \"26-08-2...  "
      ]
     },
     "execution_count": 45,
     "metadata": {},
     "output_type": "execute_result"
    }
   ],
   "source": [
    "#datadump events that we are concerned about\n",
    "data_eventdump_buy = data_eventdump[(data_eventdump['event'].isin(events))]\n",
    "data_eventdump_buy.head()"
   ]
  },
  {
   "cell_type": "code",
   "execution_count": 46,
   "metadata": {
    "scrolled": false
   },
   "outputs": [
    {
     "data": {
      "text/html": [
       "<div>\n",
       "<style scoped>\n",
       "    .dataframe tbody tr th:only-of-type {\n",
       "        vertical-align: middle;\n",
       "    }\n",
       "\n",
       "    .dataframe tbody tr th {\n",
       "        vertical-align: top;\n",
       "    }\n",
       "\n",
       "    .dataframe thead th {\n",
       "        text-align: right;\n",
       "    }\n",
       "</style>\n",
       "<table border=\"1\" class=\"dataframe\">\n",
       "  <thead>\n",
       "    <tr style=\"text-align: right;\">\n",
       "      <th></th>\n",
       "      <th>uuid_x</th>\n",
       "      <th>event_type_y</th>\n",
       "      <th>creation_date_y</th>\n",
       "      <th>event_type_x</th>\n",
       "      <th>creation_date_x</th>\n",
       "    </tr>\n",
       "  </thead>\n",
       "  <tbody>\n",
       "    <tr>\n",
       "      <th>135863</th>\n",
       "      <td>10f3441c28c083db</td>\n",
       "      <td>install</td>\n",
       "      <td>2016-08-26 07:51:51.0</td>\n",
       "      <td>uninstall</td>\n",
       "      <td>2016-08-30 05:51:15.0</td>\n",
       "    </tr>\n",
       "    <tr>\n",
       "      <th>151217</th>\n",
       "      <td>117544bfcc491ca7</td>\n",
       "      <td>install</td>\n",
       "      <td>2016-08-28 07:25:28.0</td>\n",
       "      <td>uninstall</td>\n",
       "      <td>2016-08-31 18:42:05.0</td>\n",
       "    </tr>\n",
       "    <tr>\n",
       "      <th>145361</th>\n",
       "      <td>11f578925dae72a1</td>\n",
       "      <td>install</td>\n",
       "      <td>2016-08-27 04:01:39.0</td>\n",
       "      <td>uninstall</td>\n",
       "      <td>2016-08-28 18:42:44.0</td>\n",
       "    </tr>\n",
       "    <tr>\n",
       "      <th>111181</th>\n",
       "      <td>12f93f4c5dab959e</td>\n",
       "      <td>install</td>\n",
       "      <td>2016-08-11 09:55:10.0</td>\n",
       "      <td>uninstall</td>\n",
       "      <td>2016-08-14 05:43:09.0</td>\n",
       "    </tr>\n",
       "    <tr>\n",
       "      <th>160170</th>\n",
       "      <td>134bb8b89b236a93</td>\n",
       "      <td>install</td>\n",
       "      <td>2016-08-27 04:09:02.0</td>\n",
       "      <td>uninstall</td>\n",
       "      <td>2016-08-30 17:59:00.0</td>\n",
       "    </tr>\n",
       "  </tbody>\n",
       "</table>\n",
       "</div>"
      ],
      "text/plain": [
       "                  uuid_x event_type_y        creation_date_y event_type_x  \\\n",
       "135863  10f3441c28c083db      install  2016-08-26 07:51:51.0    uninstall   \n",
       "151217  117544bfcc491ca7      install  2016-08-28 07:25:28.0    uninstall   \n",
       "145361  11f578925dae72a1      install  2016-08-27 04:01:39.0    uninstall   \n",
       "111181  12f93f4c5dab959e      install  2016-08-11 09:55:10.0    uninstall   \n",
       "160170  134bb8b89b236a93      install  2016-08-27 04:09:02.0    uninstall   \n",
       "\n",
       "              creation_date_x  \n",
       "135863  2016-08-30 05:51:15.0  \n",
       "151217  2016-08-31 18:42:05.0  \n",
       "145361  2016-08-28 18:42:44.0  \n",
       "111181  2016-08-14 05:43:09.0  \n",
       "160170  2016-08-30 17:59:00.0  "
      ]
     },
     "execution_count": 46,
     "metadata": {},
     "output_type": "execute_result"
    }
   ],
   "source": [
    "cycle_data.sort_values(by= ['uuid_x','creation_date_y'] ).head()"
   ]
  },
  {
   "cell_type": "code",
   "execution_count": 47,
   "metadata": {
    "scrolled": false
   },
   "outputs": [],
   "source": [
    "# 1 and 2 are for the first and second cycles respectively \n",
    "cycle_data_1 = cycle_data[cycle_data.sort_values(by = ['uuid_x','creation_date_y']).groupby(by = 'uuid_x').cumcount() + 1 == 1]\n",
    "cycle_data_2 = cycle_data[cycle_data.sort_values(by = ['uuid_x','creation_date_y']).groupby(by = 'uuid_x').cumcount() + 1 == 2]"
   ]
  },
  {
   "cell_type": "code",
   "execution_count": 48,
   "metadata": {},
   "outputs": [
    {
     "data": {
      "text/html": [
       "<div>\n",
       "<style scoped>\n",
       "    .dataframe tbody tr th:only-of-type {\n",
       "        vertical-align: middle;\n",
       "    }\n",
       "\n",
       "    .dataframe tbody tr th {\n",
       "        vertical-align: top;\n",
       "    }\n",
       "\n",
       "    .dataframe thead th {\n",
       "        text-align: right;\n",
       "    }\n",
       "</style>\n",
       "<table border=\"1\" class=\"dataframe\">\n",
       "  <thead>\n",
       "    <tr style=\"text-align: right;\">\n",
       "      <th></th>\n",
       "      <th>uuid_x</th>\n",
       "      <th>event_type_y</th>\n",
       "      <th>creation_date_y</th>\n",
       "      <th>event_type_x</th>\n",
       "      <th>creation_date_x</th>\n",
       "    </tr>\n",
       "  </thead>\n",
       "  <tbody>\n",
       "    <tr>\n",
       "      <th>135863</th>\n",
       "      <td>10f3441c28c083db</td>\n",
       "      <td>install</td>\n",
       "      <td>2016-08-26 07:51:51.0</td>\n",
       "      <td>uninstall</td>\n",
       "      <td>2016-08-30 05:51:15.0</td>\n",
       "    </tr>\n",
       "    <tr>\n",
       "      <th>151217</th>\n",
       "      <td>117544bfcc491ca7</td>\n",
       "      <td>install</td>\n",
       "      <td>2016-08-28 07:25:28.0</td>\n",
       "      <td>uninstall</td>\n",
       "      <td>2016-08-31 18:42:05.0</td>\n",
       "    </tr>\n",
       "    <tr>\n",
       "      <th>145361</th>\n",
       "      <td>11f578925dae72a1</td>\n",
       "      <td>install</td>\n",
       "      <td>2016-08-27 04:01:39.0</td>\n",
       "      <td>uninstall</td>\n",
       "      <td>2016-08-28 18:42:44.0</td>\n",
       "    </tr>\n",
       "    <tr>\n",
       "      <th>111181</th>\n",
       "      <td>12f93f4c5dab959e</td>\n",
       "      <td>install</td>\n",
       "      <td>2016-08-11 09:55:10.0</td>\n",
       "      <td>uninstall</td>\n",
       "      <td>2016-08-14 05:43:09.0</td>\n",
       "    </tr>\n",
       "    <tr>\n",
       "      <th>160170</th>\n",
       "      <td>134bb8b89b236a93</td>\n",
       "      <td>install</td>\n",
       "      <td>2016-08-27 04:09:02.0</td>\n",
       "      <td>uninstall</td>\n",
       "      <td>2016-08-30 17:59:00.0</td>\n",
       "    </tr>\n",
       "  </tbody>\n",
       "</table>\n",
       "</div>"
      ],
      "text/plain": [
       "                  uuid_x event_type_y        creation_date_y event_type_x  \\\n",
       "135863  10f3441c28c083db      install  2016-08-26 07:51:51.0    uninstall   \n",
       "151217  117544bfcc491ca7      install  2016-08-28 07:25:28.0    uninstall   \n",
       "145361  11f578925dae72a1      install  2016-08-27 04:01:39.0    uninstall   \n",
       "111181  12f93f4c5dab959e      install  2016-08-11 09:55:10.0    uninstall   \n",
       "160170  134bb8b89b236a93      install  2016-08-27 04:09:02.0    uninstall   \n",
       "\n",
       "              creation_date_x  \n",
       "135863  2016-08-30 05:51:15.0  \n",
       "151217  2016-08-31 18:42:05.0  \n",
       "145361  2016-08-28 18:42:44.0  \n",
       "111181  2016-08-14 05:43:09.0  \n",
       "160170  2016-08-30 17:59:00.0  "
      ]
     },
     "execution_count": 48,
     "metadata": {},
     "output_type": "execute_result"
    }
   ],
   "source": [
    "cycle_data_1.head()"
   ]
  },
  {
   "cell_type": "code",
   "execution_count": 49,
   "metadata": {
    "scrolled": false
   },
   "outputs": [],
   "source": [
    "#here we extract the data from data_eventdump and used join for the first cycle\n",
    "data_eventdump_buy_1 = data_eventdump_buy.merge(\n",
    "    cycle_data_1, left_on='uuid', right_on='uuid_x')\n",
    "data_eventdump_buy_1 = data_eventdump_buy_1[\n",
    "    (data_eventdump_buy_1['event_timestamp'] >\n",
    "     data_eventdump_buy_1['creation_date_y']) & (\n",
    "         (data_eventdump_buy_1['event_timestamp'] <\n",
    "          data_eventdump_buy_1['creation_date_x']))]\n",
    "\n",
    "a = {\n",
    "    'uuid': data_eventdump_buy_1['uuid'],\n",
    "    'event': data_eventdump_buy_1['event'],\n",
    "    'event_timestamp': data_eventdump_buy_1['event_timestamp'],\n",
    "    'properties': data_eventdump_buy_1['properties']\n",
    "}\n",
    "\n",
    "data_eventdump_buy_1 = pd.DataFrame(a)"
   ]
  },
  {
   "cell_type": "code",
   "execution_count": 50,
   "metadata": {},
   "outputs": [],
   "source": [
    "#here we extract the data from data_eventdump and used join for the 2nd cycle\n",
    "data_eventdump_buy_2 = data_eventdump_buy.merge(\n",
    "    cycle_data_2, left_on='uuid', right_on='uuid_x')\n",
    "data_eventdump_buy_2 = data_eventdump_buy_2[\n",
    "    (data_eventdump_buy_2['event_timestamp'] >\n",
    "     data_eventdump_buy_2['creation_date_y']) & (\n",
    "         (data_eventdump_buy_2['event_timestamp'] <\n",
    "          data_eventdump_buy_2['creation_date_x']))]\n",
    "\n",
    "a = {\n",
    "    'uuid': data_eventdump_buy_2['uuid'],\n",
    "    'event': data_eventdump_buy_2['event'],\n",
    "    'event_timestamp': data_eventdump_buy_2['event_timestamp'],\n",
    "    'properties': data_eventdump_buy_2['properties']\n",
    "}\n",
    "\n",
    "data_eventdump_buy_2 = pd.DataFrame(a)"
   ]
  },
  {
   "cell_type": "code",
   "execution_count": 51,
   "metadata": {},
   "outputs": [],
   "source": [
    "#extracting the values from 'properties'\n",
    "lister_product_no = []\n",
    "lister_total = []\n",
    "lister_subtotal = []\n",
    "\n",
    "for i in data_eventdump_buy_1.index:\n",
    "\n",
    "    a = data_eventdump_buy_1.loc[i,'properties']\n",
    "    #data_eventdump.loc[i,'parsed_timestamp'] = (ast.literal_eval(a).get('timeStamp',np.nan))\n",
    "    lister_product_no.append((ast.literal_eval(a).get('No Of Products',np.nan)))\n",
    "    lister_total.append((ast.literal_eval(a).get('total',np.nan)))\n",
    "    lister_subtotal.append((ast.literal_eval(a).get('subtotal',np.nan)))\n",
    "    \n",
    "    \n",
    "value_dataframe_1 = pd.DataFrame({'product_no':lister_product_no,'total':lister_total,'subtotal':lister_subtotal})    "
   ]
  },
  {
   "cell_type": "code",
   "execution_count": 52,
   "metadata": {},
   "outputs": [],
   "source": [
    "#extracting the values from 'properties'\n",
    "lister_product_no = []\n",
    "lister_total = []\n",
    "lister_subtotal = []\n",
    "\n",
    "for i in data_eventdump_buy_2.index:\n",
    "\n",
    "    a = data_eventdump_buy_2.loc[i,'properties']\n",
    "    #data_eventdump.loc[i,'parsed_timestamp'] = (ast.literal_eval(a).get('timeStamp',np.nan))\n",
    "    lister_product_no.append((ast.literal_eval(a).get('No Of Products',np.nan)))\n",
    "    lister_total.append((ast.literal_eval(a).get('total',np.nan)))\n",
    "    lister_subtotal.append((ast.literal_eval(a).get('subtotal',np.nan)))\n",
    "    \n",
    "    \n",
    "value_dataframe_2 = pd.DataFrame({'product_no':lister_product_no,'total':lister_total,'subtotal':lister_subtotal})    "
   ]
  },
  {
   "cell_type": "code",
   "execution_count": 53,
   "metadata": {},
   "outputs": [
    {
     "data": {
      "text/plain": [
       "<matplotlib.text.Text at 0x13594cb38>"
      ]
     },
     "execution_count": 53,
     "metadata": {},
     "output_type": "execute_result"
    },
    {
     "data": {
      "image/png": "[encoded data removed]",
      "text/plain": [
       "<matplotlib.figure.Figure at 0x1428aa048>"
      ]
     },
     "metadata": {},
     "output_type": "display_data"
    }
   ],
   "source": [
    "#distrubution of the total is almost the same in both the two cycles,\n",
    "#hoever the number of purchases is very less in the seconf cycle\n",
    "plt.subplot(1, 2, 1)\n",
    "value_dataframe_1['total'].hist(bins = 30,figsize=(16, 6))\n",
    "plt.title('Total first cycle')\n",
    "plt.subplot(1, 2, 2)\n",
    "value_dataframe_2['total'].hist(bins = 5)\n",
    "plt.title('Total second cycle')"
   ]
  },
  {
   "cell_type": "code",
   "execution_count": 54,
   "metadata": {},
   "outputs": [
    {
     "data": {
      "text/plain": [
       "<matplotlib.text.Text at 0x1358e27b8>"
      ]
     },
     "execution_count": 54,
     "metadata": {},
     "output_type": "execute_result"
    },
    {
     "data": {
      "image/png": "[encoded data removed]",
      "text/plain": [
       "<matplotlib.figure.Figure at 0x1359bccf8>"
      ]
     },
     "metadata": {},
     "output_type": "display_data"
    }
   ],
   "source": [
    "#plot for the number of items pruchased \n",
    "plt.subplot(1, 2, 1)\n",
    "value_dataframe_1['product_no'].hist(figsize=(16, 6))\n",
    "plt.title('Product Number /first cycle')\n",
    "plt.subplot(1, 2, 2)\n",
    "value_dataframe_2['product_no'].hist(figsize=(16, 6))\n",
    "plt.title('Product Number/ second cycle')"
   ]
  }
 ],
 "metadata": {
  "kernelspec": {
   "display_name": "Python 3",
   "language": "python",
   "name": "python3"
  },
  "language_info": {
   "codemirror_mode": {
    "name": "ipython",
    "version": 3
   },
   "file_extension": ".py",
   "mimetype": "text/x-python",
   "name": "python",
   "nbconvert_exporter": "python",
   "pygments_lexer": "ipython3",
   "version": "3.6.4"
  }
 },
 "nbformat": 4,
 "nbformat_minor": 2
}
